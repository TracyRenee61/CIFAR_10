{
  "nbformat": 4,
  "nbformat_minor": 0,
  "metadata": {
    "colab": {
      "name": "PyTorch - Cifar_10 (train and  dataset).ipynb",
      "provenance": [],
      "collapsed_sections": []
    },
    "kernelspec": {
      "name": "python3",
      "display_name": "Python 3"
    },
    "language_info": {
      "name": "python"
    },
    "accelerator": "GPU"
  },
  "cells": [
    {
      "cell_type": "markdown",
      "metadata": {
        "id": "4Z7jySBFwR7R"
      },
      "source": [
        "Import libraries"
      ]
    },
    {
      "cell_type": "code",
      "metadata": {
        "id": "1UJ-wyfVwUpn"
      },
      "source": [
        "import pandas as pd\n",
        "import numpy as np\n",
        "import torch as T\n",
        "import torchvision as tv"
      ],
      "execution_count": 54,
      "outputs": []
    },
    {
      "cell_type": "markdown",
      "metadata": {
        "id": "ihFvARtewZoR"
      },
      "source": [
        "Define device"
      ]
    },
    {
      "cell_type": "code",
      "metadata": {
        "colab": {
          "base_uri": "https://localhost:8080/"
        },
        "id": "8zhJKhH5wdMO",
        "outputId": "094a4a48-1d1e-45bc-e798-5a9f3a1a6574"
      },
      "source": [
        "device = T.device(\"cuda\" if T.cuda.is_available() else \"cpu\")\n",
        "print(device)"
      ],
      "execution_count": 55,
      "outputs": [
        {
          "output_type": "stream",
          "text": [
            "cuda\n"
          ],
          "name": "stdout"
        }
      ]
    },
    {
      "cell_type": "markdown",
      "metadata": {
        "id": "KjzJShzswstT"
      },
      "source": [
        "Define Class Net"
      ]
    },
    {
      "cell_type": "code",
      "metadata": {
        "id": "-lC3xND2wvoT"
      },
      "source": [
        "class Net(T.nn.Module):\n",
        "  def __init__(self):\n",
        "    super(Net, self).__init__()\n",
        "    self.conv1 = T.nn.Conv2d(3, 6, 5).cuda()  # in, out, kernel\n",
        "    self.conv2 = T.nn.Conv2d(6, 16, 5).cuda()\n",
        "    self.pool = T.nn.MaxPool2d(2, 2).cuda()   # kernel, stride\n",
        "    self.fc1 = T.nn.Linear(16 * 5 * 5, 120).cuda()\n",
        "    self.fc2 = T.nn.Linear(120, 84).cuda()\n",
        "    self.fc3 = T.nn.Linear(84, 10).cuda()  \n",
        "\n",
        "  def forward(self, x):\n",
        "    z = T.nn.functional.relu(self.conv1(x)).cuda()\n",
        "    z = self.pool(z).cuda()\n",
        "    z = T.nn.functional.relu(self.conv2(z)).cuda()\n",
        "    z = self.pool(z).cuda()\n",
        "\n",
        "    z = z.view(-1, 16 * 5 * 5).cuda()\n",
        "    z = T.nn.functional.relu(self.fc1(z)).cuda()\n",
        "    z = T.nn.functional.relu(self.fc2(z)).cuda()\n",
        "    z = self.fc3(z).cuda()\n",
        "    return z\n"
      ],
      "execution_count": 56,
      "outputs": []
    },
    {
      "cell_type": "markdown",
      "metadata": {
        "id": "XjMP48zGw2lS"
      },
      "source": [
        "Define accuracy model"
      ]
    },
    {
      "cell_type": "code",
      "metadata": {
        "id": "oJQmPZXIw9UM"
      },
      "source": [
        "def accuracy(model, ds):\n",
        "  ldr = T.utils.data.DataLoader(ds,\n",
        "    batch_size=len(ds), shuffle=False)\n",
        "  n_correct = 0\n",
        "  for data in ldr:\n",
        "    (pixels, labels) = data\n",
        "    pixels, labels = pixels.to(device), labels.to(device)\n",
        "    with T.no_grad():\n",
        "      oupts = model(pixels)\n",
        "    (_, predicteds) = T.max(oupts, 1)\n",
        "    n_correct += (predicteds == labels).sum().item()\n",
        "\n",
        "  acc = (n_correct * 1.0) / len(ds)\n",
        "  return acc\n"
      ],
      "execution_count": 57,
      "outputs": []
    },
    {
      "cell_type": "markdown",
      "metadata": {
        "id": "kHdj8jZVw-3p"
      },
      "source": [
        "Begin program"
      ]
    },
    {
      "cell_type": "code",
      "metadata": {
        "colab": {
          "base_uri": "https://localhost:8080/"
        },
        "id": "vqytt-ypWTnD",
        "outputId": "d65ab2f2-e650-4039-97eb-f6ea97f37fc3"
      },
      "source": [
        "print(\"\\nBegin CIFAR-10 program\")\n",
        "np.random.seed(1)\n",
        "T.manual_seed(1)"
      ],
      "execution_count": 58,
      "outputs": [
        {
          "output_type": "stream",
          "text": [
            "\n",
            "Begin CIFAR-10 program\n"
          ],
          "name": "stdout"
        },
        {
          "output_type": "execute_result",
          "data": {
            "text/plain": [
              "<torch._C.Generator at 0x7f1df51f0910>"
            ]
          },
          "metadata": {
            "tags": []
          },
          "execution_count": 58
        }
      ]
    },
    {
      "cell_type": "markdown",
      "metadata": {
        "id": "lS1BVd5RWYP-"
      },
      "source": [
        "Load and read dataset"
      ]
    },
    {
      "cell_type": "code",
      "metadata": {
        "colab": {
          "base_uri": "https://localhost:8080/"
        },
        "id": "cugukiEwWdfq",
        "outputId": "7682f5c7-710e-434d-d374-9b730e7ca0b0"
      },
      "source": [
        "print(\"\\nCreating Dataset \")\n",
        "trfm = tv.transforms.Compose([ tv.transforms.ToTensor() ])\n",
        "train_ds = tv.datasets.CIFAR10(root=\".\\\\Data\", train=True, download=True, transform=trfm)\n",
        "test_ds = tv.datasets.CIFAR10(root=\".\\\\Data\", train=False, download=True, transform=trfm)\n",
        "bat_size = 10\n",
        "train_ldr = T.utils.data.DataLoader(train_ds, batch_size=bat_size, shuffle=True)\n",
        "test_ldr = T.utils.data.DataLoader(test_ds, batch_size=bat_size, shuffle=False)\n",
        "\n",
        "classes = ('plane', 'car', 'bird', 'cat', 'deer', 'dog', 'frog', 'horse', 'ship', 'truck')"
      ],
      "execution_count": 59,
      "outputs": [
        {
          "output_type": "stream",
          "text": [
            "\n",
            "Creating Dataset \n",
            "Files already downloaded and verified\n",
            "Files already downloaded and verified\n"
          ],
          "name": "stdout"
        }
      ]
    },
    {
      "cell_type": "markdown",
      "metadata": {
        "id": "m0V6MHAAWmmH"
      },
      "source": [
        "Create CNN"
      ]
    },
    {
      "cell_type": "code",
      "metadata": {
        "colab": {
          "base_uri": "https://localhost:8080/"
        },
        "id": "XOIGpRArWqGD",
        "outputId": "a1d7bce9-4bca-4205-d251-a230c0f17422"
      },
      "source": [
        "print(\"\\nCreating CNN with 2 conv and 400-120-84-10 \")\n",
        "net = Net().to(device).cuda()"
      ],
      "execution_count": 60,
      "outputs": [
        {
          "output_type": "stream",
          "text": [
            "\n",
            "Creating CNN with 2 conv and 400-120-84-10 \n"
          ],
          "name": "stdout"
        }
      ]
    },
    {
      "cell_type": "markdown",
      "metadata": {
        "id": "0e4qSqHrWuva"
      },
      "source": [
        "Train CNN"
      ]
    },
    {
      "cell_type": "code",
      "metadata": {
        "colab": {
          "base_uri": "https://localhost:8080/"
        },
        "id": "JCXy-xu1W3yB",
        "outputId": "1a67f5a1-be18-4a5a-fc36-1b13dbded5e9"
      },
      "source": [
        "max_epochs = 25\n",
        "ep_log_interval = 5\n",
        "lrn_rate = 0.005\n",
        "\n",
        "loss_func = T.nn.CrossEntropyLoss()  # does log-softmax()\n",
        "optimizer = T.optim.SGD(net.parameters(), lr=lrn_rate)\n",
        "\n",
        "print(\"\\nbat_size = %3d \" % bat_size)\n",
        "print(\"loss = \" + str(loss_func))\n",
        "print(\"optimizer = SGD\")\n",
        "print(\"max_epochs = %3d \" % max_epochs)\n",
        "print(\"lrn_rate = %0.3f \" % lrn_rate)\n",
        "\n",
        "print(\"\\nStarting training\")\n",
        "net = net.to(device).train()\n",
        "for epoch in range(0, max_epochs):\n",
        "  epoch_loss = 0  # for one full epoch\n",
        "  num_lines_read = 0\n",
        "  \n",
        "  for (batch_idx, batch) in enumerate(train_ldr):\n",
        "    X, Y = batch  # X = pixels, Y = target labels\n",
        "    X, Y = X.to(device), Y.to(device)\n",
        "    num_lines_read += bat_size  # not exactly\n",
        "\n",
        "    optimizer.zero_grad()\n",
        "    oupt = net(X)  # X is Size([bat_size, 3, 32, 32])\n",
        "    loss_obj = loss_func(oupt, Y)  # a tensor\n",
        "    epoch_loss += loss_obj.item()  # accumulate\n",
        "    loss_obj.backward()\n",
        "    optimizer.step()\n",
        "  if epoch % ep_log_interval == 0:\n",
        "    print(\"epoch = %4d   loss = %0.4f\" % (epoch, epoch_loss))\n",
        "print(\"Training complete \") "
      ],
      "execution_count": 61,
      "outputs": [
        {
          "output_type": "stream",
          "text": [
            "\n",
            "bat_size =  10 \n",
            "loss = CrossEntropyLoss()\n",
            "optimizer = SGD\n",
            "max_epochs =  25 \n",
            "lrn_rate = 0.005 \n",
            "\n",
            "Starting training\n",
            "epoch =    0   loss = 11077.7373\n",
            "epoch =    5   loss = 6731.0079\n",
            "epoch =   10   loss = 5657.0020\n",
            "epoch =   15   loss = 4914.6783\n",
            "epoch =   20   loss = 4298.0348\n",
            "Training complete \n"
          ],
          "name": "stdout"
        }
      ]
    },
    {
      "cell_type": "markdown",
      "metadata": {
        "id": "XnUoihnhXA-d"
      },
      "source": [
        "Evaluate CNN accuracy"
      ]
    },
    {
      "cell_type": "code",
      "metadata": {
        "colab": {
          "base_uri": "https://localhost:8080/"
        },
        "id": "6g2I_g_hXIuh",
        "outputId": "b595d33b-a963-43e7-b79b-0ec31f795e83"
      },
      "source": [
        "print(\"\\nComputing model accuracy\")\n",
        "net = net.eval()\n",
        "acc_train = accuracy(net, train_ds)  # item-by-item\n",
        "print(\"Accuracy on training data = %0.4f\" % acc_train)"
      ],
      "execution_count": 62,
      "outputs": [
        {
          "output_type": "stream",
          "text": [
            "\n",
            "Computing model accuracy\n",
            "Accuracy on training data = 0.7396\n"
          ],
          "name": "stdout"
        }
      ]
    },
    {
      "cell_type": "markdown",
      "metadata": {
        "id": "-oHArO-BXMrU"
      },
      "source": [
        "Make a prediction"
      ]
    },
    {
      "cell_type": "code",
      "metadata": {
        "colab": {
          "base_uri": "https://localhost:8080/"
        },
        "id": "WwpG7tGLXP1Z",
        "outputId": "4c3f550b-a021-4e4d-e502-54e871c11f22"
      },
      "source": [
        "print(\"\\nPredicting image for random 32x32 pixels \")\n",
        "cifar = ['plane', 'car', 'bird', 'cat', 'deer','dog', 'frog', 'horse', 'ship', 'truck']\n",
        "inpt = np.random.random((1, 3, 32, 32))\n",
        "inpt = T.tensor(inpt, dtype=T.float32).to(device)\n",
        "with T.no_grad():\n",
        "  oupt = net(inpt).cuda()  # like [[-0.12, 1.03, 0.55, . . ]]\n",
        "  am = T.argmax(oupt).cuda() # 0 to 9\n",
        "print(\"\\nPredicted class is \" + cifar[am] )"
      ],
      "execution_count": 63,
      "outputs": [
        {
          "output_type": "stream",
          "text": [
            "\n",
            "Predicting image for random 32x32 pixels \n",
            "\n",
            "Predicted class is frog\n"
          ],
          "name": "stdout"
        }
      ]
    },
    {
      "cell_type": "markdown",
      "metadata": {
        "id": "Zk37OVsJWjtt"
      },
      "source": [
        "Predict on test set"
      ]
    },
    {
      "cell_type": "code",
      "metadata": {
        "colab": {
          "base_uri": "https://localhost:8080/"
        },
        "id": "DAhXbQ7DWmL5",
        "outputId": "30749ec7-8745-4299-8778-8d04a894ea00"
      },
      "source": [
        "total_correct = 0\n",
        "total_images = 0\n",
        "confusion_matrix = np.zeros([10,10], int)\n",
        "with T.no_grad():\n",
        "    for data in test_ldr:\n",
        "        images, labels = data\n",
        "        images, labels = images.cuda(), labels.cuda()\n",
        "        outputs = net(images)\n",
        "        _, predicted = T.max(outputs.data, 1)\n",
        "        total_images += labels.size(0)\n",
        "        total_correct += (predicted == labels).sum().item()\n",
        "        for i, l in enumerate(labels):\n",
        "            confusion_matrix[l.item(), predicted[i].item()] += 1 \n",
        "\n",
        "model_accuracy = total_correct / total_images * 100\n",
        "print('Model accuracy on {0} test images: {1:.2f}%'.format(total_images, model_accuracy))"
      ],
      "execution_count": 64,
      "outputs": [
        {
          "output_type": "stream",
          "text": [
            "Model accuracy on 10000 test images: 60.82%\n"
          ],
          "name": "stdout"
        }
      ]
    },
    {
      "cell_type": "markdown",
      "metadata": {
        "id": "FxKXGG1najyA"
      },
      "source": [
        "Confusion matrix"
      ]
    },
    {
      "cell_type": "code",
      "metadata": {
        "colab": {
          "base_uri": "https://localhost:8080/",
          "height": 388
        },
        "id": "kGkodPJFamUU",
        "outputId": "f0cf131d-6493-4f49-c9b0-8f1acb681204"
      },
      "source": [
        "import matplotlib.pyplot as plt\n",
        "\n",
        "fig, ax = plt.subplots(1,1,figsize=(8,6))\n",
        "ax.matshow(confusion_matrix, aspect='auto', vmin=0, vmax=1000, cmap=plt.get_cmap('Blues'))\n",
        "plt.ylabel('Actual Category')\n",
        "plt.yticks(range(10), classes)\n",
        "plt.xlabel('Predicted Category')\n",
        "plt.xticks(range(10), classes)\n",
        "plt.show()"
      ],
      "execution_count": 65,
      "outputs": [
        {
          "output_type": "display_data",
          "data": {
            "image/png": "[encoded data removed]",
            "text/plain": [
              "<Figure size 576x432 with 1 Axes>"
            ]
          },
          "metadata": {
            "tags": [],
            "needs_background": "light"
          }
        }
      ]
    },
    {
      "cell_type": "code",
      "metadata": {
        "colab": {
          "base_uri": "https://localhost:8080/"
        },
        "id": "SVdbCknweNbX",
        "outputId": "d7c9d49e-cfc7-4493-c8da-9b89686f076d"
      },
      "source": [
        "print('actual/pred'.ljust(16), end='')\n",
        "for i,c in enumerate(classes):\n",
        "    print(c.ljust(10), end='')\n",
        "print()\n",
        "for i,r in enumerate(confusion_matrix):\n",
        "    print(classes[i].ljust(16), end='')\n",
        "    for idx, p in enumerate(r):\n",
        "        print(str(p).ljust(10), end='')\n",
        "    print()\n",
        "    \n",
        "    r = r/np.sum(r)\n",
        "    print(''.ljust(16), end='')\n",
        "    for idx, p in enumerate(r):\n",
        "        print(str(p).ljust(10), end='')\n",
        "    print()"
      ],
      "execution_count": 66,
      "outputs": [
        {
          "output_type": "stream",
          "text": [
            "actual/pred     plane     car       bird      cat       deer      dog       frog      horse     ship      truck     \n",
            "plane           747       22        66        17        27        8         22        10        60        21        \n",
            "                0.747     0.022     0.066     0.017     0.027     0.008     0.022     0.01      0.06      0.021     \n",
            "car             63        757       18        12        9         13        25        12        39        52        \n",
            "                0.063     0.757     0.018     0.012     0.009     0.013     0.025     0.012     0.039     0.052     \n",
            "bird            67        12        575       44        61        90        101       32        10        8         \n",
            "                0.067     0.012     0.575     0.044     0.061     0.09      0.101     0.032     0.01      0.008     \n",
            "cat             21        12        110       309       78        281       129       31        9         20        \n",
            "                0.021     0.012     0.11      0.309     0.078     0.281     0.129     0.031     0.009     0.02      \n",
            "deer            46        4         168       38        509       73        71        77        8         6         \n",
            "                0.046     0.004     0.168     0.038     0.509     0.073     0.071     0.077     0.008     0.006     \n",
            "dog             14        8         101       105       46        605       58        56        3         4         \n",
            "                0.014     0.008     0.101     0.105     0.046     0.605     0.058     0.056     0.003     0.004     \n",
            "frog            9         12        69        50        57        25        759       7         3         9         \n",
            "                0.009     0.012     0.069     0.05      0.057     0.025     0.759     0.007     0.003     0.009     \n",
            "horse           24        7         59        32        69        117       17        659       4         12        \n",
            "                0.024     0.007     0.059     0.032     0.069     0.117     0.017     0.659     0.004     0.012     \n",
            "ship            156       58        31        29        23        13        20        16        625       29        \n",
            "                0.156     0.058     0.031     0.029     0.023     0.013     0.02      0.016     0.625     0.029     \n",
            "truck           78        163       31        41        8         20        34        38        50        537       \n",
            "                0.078     0.163     0.031     0.041     0.008     0.02      0.034     0.038     0.05      0.537     \n"
          ],
          "name": "stdout"
        }
      ]
    },
    {
      "cell_type": "markdown",
      "metadata": {
        "id": "0UUz27qyXVXS"
      },
      "source": [
        "Save CNN"
      ]
    },
    {
      "cell_type": "code",
      "metadata": {
        "colab": {
          "base_uri": "https://localhost:8080/"
        },
        "id": "OmU4Qr73XaN0",
        "outputId": "85f9ab8e-b942-4b91-aae1-82270f5f3b48"
      },
      "source": [
        "print(\"\\nSaving trained model state\")\n",
        "fn = \".\\\\Models\\\\cifar_model.pth\"\n",
        "T.save(net.state_dict(), fn)  "
      ],
      "execution_count": 67,
      "outputs": [
        {
          "output_type": "stream",
          "text": [
            "\n",
            "Saving trained model state\n"
          ],
          "name": "stdout"
        }
      ]
    },
    {
      "cell_type": "code",
      "metadata": {
        "id": "RI0umTPcxRFr",
        "colab": {
          "base_uri": "https://localhost:8080/"
        },
        "outputId": "cfb5bab5-55ae-4aee-a73c-d5b55ab54d70"
      },
      "source": [
        "print(\"\\nEnd CIFAR-10 program\")"
      ],
      "execution_count": 69,
      "outputs": [
        {
          "output_type": "stream",
          "text": [
            "\n",
            "End CIFAR-10 program\n"
          ],
          "name": "stdout"
        }
      ]
    }
  ]
}